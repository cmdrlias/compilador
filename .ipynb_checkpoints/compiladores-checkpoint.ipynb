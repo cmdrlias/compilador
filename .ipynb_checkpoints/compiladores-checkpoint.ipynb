{
 "cells": [
  {
   "cell_type": "code",
   "execution_count": 62,
   "metadata": {},
   "outputs": [],
   "source": [
    "import pandas as pd\n",
    "\n",
    "# import matplotlib.pyplot as plt\n",
    "# import matplotlib.image as mpimg"
   ]
  },
  {
   "cell_type": "code",
   "execution_count": 63,
   "metadata": {},
   "outputs": [],
   "source": [
    "ts = pd.read_csv(\"tokens.csv\", header=[0], sep=',')"
   ]
  },
  {
   "cell_type": "code",
   "execution_count": 64,
   "metadata": {},
   "outputs": [],
   "source": [
    "code = []\n",
    "file = 'code.txt'\n",
    "word = ''"
   ]
  },
  {
   "cell_type": "code",
   "execution_count": 65,
   "metadata": {},
   "outputs": [
    {
     "name": "stdout",
     "output_type": "stream",
     "text": [
      "['class', ':', 'def', 'void', '(', ')', ':', 'integer', ';', 'bool', '=', ';', 'while', '(', ')', ':', '=', '+', ';', 'if', '(', '==', ')', ':', '=', ';', 'end', ';', 'end', ';', '.']\n"
     ]
    }
   ],
   "source": [
    "with open(file) as fp:\n",
    "    w = fp.read()\n",
    "    for c in w:\n",
    "        word += c\n",
    "        # fazer verificação, além de espaços, de tokens seguidos de operadores\n",
    "        if(c == ' ' or c == '/n' or c == ':' or c == ';' or c == '.' or c == '(' or c == ')'):\n",
    "            # fazer o array de palavras, independente da verificação de tokens\n",
    "            # depois do array contendo todas as palavras for preenchido, verificar tokens e\n",
    "            # dividir em keys, operandos ou ids\n",
    "            # verificar erros de palavras (lexico) e possíveis correções\n",
    "            for i, row in ts.iterrows():\n",
    "                if(word[:-1] == row['lexema']):\n",
    "                    code.append(word[:-1])\n",
    "            if(c == ':'):\n",
    "                code.append(':')\n",
    "            if(c == ';'):\n",
    "                code.append(';')\n",
    "            if(c == '.'):\n",
    "                code.append('.')\n",
    "            if(c == '('):\n",
    "                code.append('(')\n",
    "            if(c == ')'):\n",
    "                code.append(')')\n",
    "            word = ''\n",
    "code = [x for x in code if x not in ['\\n', '\\t', '', ' ']]\n",
    "print(code)\n",
    "    #line = fp.readline()\n",
    "    #while line:\n",
    "    #    print(line.split())\n",
    "    #    code.append(line.split())\n",
    "    #    line = fp.readline()"
   ]
  },
  {
   "cell_type": "code",
   "execution_count": 71,
   "metadata": {},
   "outputs": [
    {
     "name": "stdout",
     "output_type": "stream",
     "text": [
      "<KW_CLASS, \"class\">\n",
      "<OP_COL, \":\">\n",
      "<KW_DEF, \"def\">\n",
      "<KW_VOID, \"void\">\n",
      "<OP_OPAR, \"(\">\n",
      "<OP_CPAR, \")\">\n",
      "<OP_COL, \":\">\n",
      "<KW_INT, \"integer\">\n",
      "<OP_SCOL, \";\">\n",
      "<KW_BOOL, \"bool\">\n",
      "<OP_ATR, \"=\">\n",
      "<OP_SCOL, \";\">\n",
      "<KW_WHILE, \"while\">\n",
      "<OP_OPAR, \"(\">\n",
      "<OP_CPAR, \")\">\n",
      "<OP_COL, \":\">\n",
      "<OP_ATR, \"=\">\n",
      "<OP_PLUS, \"+\">\n",
      "<OP_SCOL, \";\">\n",
      "<KW_IF, \"if\">\n",
      "<OP_OPAR, \"(\">\n",
      "<OP_EQL, \"==\">\n",
      "<OP_CPAR, \")\">\n",
      "<OP_COL, \":\">\n",
      "<OP_ATR, \"=\">\n",
      "<OP_SCOL, \";\">\n",
      "<KW_END, \"end\">\n",
      "<OP_SCOL, \";\">\n",
      "<KW_END, \"end\">\n",
      "<OP_SCOL, \";\">\n",
      "<OP_DOT, \".\">\n"
     ]
    }
   ],
   "source": [
    "for c in code:\n",
    "    for i, row in ts.iterrows():\n",
    "        if(c == row['lexema']):\n",
    "            print('<' + row['token'] + ', \"' + row['lexema'] + '\">')"
   ]
  },
  {
   "cell_type": "code",
   "execution_count": null,
   "metadata": {},
   "outputs": [],
   "source": []
  }
 ],
 "metadata": {
  "kernelspec": {
   "display_name": "Python 3",
   "language": "python",
   "name": "python3"
  },
  "language_info": {
   "codemirror_mode": {
    "name": "ipython",
    "version": 3
   },
   "file_extension": ".py",
   "mimetype": "text/x-python",
   "name": "python",
   "nbconvert_exporter": "python",
   "pygments_lexer": "ipython3",
   "version": "3.7.3"
  }
 },
 "nbformat": 4,
 "nbformat_minor": 4
}
